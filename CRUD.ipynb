{
 "cells": [
  {
   "cell_type": "markdown",
   "id": "075c27fa-ee61-47db-aa7c-b45843efe47f",
   "metadata": {},
   "source": [
    "I Have Created Two Classes Using List Method and Without Using List Method."
   ]
  },
  {
   "cell_type": "markdown",
   "id": "38167efd-0921-4e53-8801-0ea119ca1912",
   "metadata": {},
   "source": [
    "With List Method"
   ]
  },
  {
   "cell_type": "code",
   "execution_count": 3,
   "id": "813e58d9-44ef-4623-acd6-9a6b34e4f66e",
   "metadata": {},
   "outputs": [
    {
     "data": {
      "text/plain": [
       "['a', 'b', 'c', 'd', 'e', 'f', 'g', 'h', 'i', 'j', 'k']"
      ]
     },
     "execution_count": 3,
     "metadata": {},
     "output_type": "execute_result"
    }
   ],
   "source": [
    "class CRUDOperation:\n",
    "    def __init__(self,initial_list=None):        \n",
    "        if initial_list is None:\n",
    "            self.datastore = []\n",
    "        else:\n",
    "            self.datastore = initial_list\n",
    "\n",
    "    def create(self,value):\n",
    "        self.datastore.append(value)\n",
    "        return self.datastore\n",
    "\n",
    "\n",
    "    def read(self,index):\n",
    "        if 0 <= index < len(self.datastore):\n",
    "            return self.datastore[index]\n",
    "        else:\n",
    "            return (f\"index {index} is out of bound\")\n",
    "\n",
    "    def update(self,value,index):\n",
    "        if 0 <= index < len(self.datastore):\n",
    "            self.datastore[index] = value\n",
    "            return self.datastore\n",
    "        else:\n",
    "            return (f\"index {index} is out of bound\")\n",
    "\n",
    "\n",
    "    def delete(self,index):\n",
    "        if 0 <= index < len(self.datastore):\n",
    "            return self.datastore.pop(index)\n",
    "        else:\n",
    "            return (f\"index {index} is out of bound\")\n",
    "\n",
    "\n",
    "    def display(self):\n",
    "        return self.datastore\n",
    "\n",
    "alpha = [\"a\",\"b\",\"c\",\"d\",\"e\",\"f\",\"g\",\"h\",\"i\",\"j\",\"k\"]\n",
    "crud_list = CRUDOperation(alpha)\n",
    "crud_list.display()\n",
    "        "
   ]
  },
  {
   "cell_type": "code",
   "execution_count": 4,
   "id": "e41f2635-0093-496e-88df-d4dd1d73cada",
   "metadata": {},
   "outputs": [
    {
     "data": {
      "text/plain": [
       "[3, 'b', 'c', 'd', 'e', 'f', 'g', 'h', 'i', 'j', 'k']"
      ]
     },
     "execution_count": 4,
     "metadata": {},
     "output_type": "execute_result"
    }
   ],
   "source": [
    "crud_list.update(3,0)"
   ]
  },
  {
   "cell_type": "code",
   "execution_count": 5,
   "id": "c9d897bd-8b8e-4939-a65b-9b08c11abb66",
   "metadata": {},
   "outputs": [
    {
     "data": {
      "text/plain": [
       "'h'"
      ]
     },
     "execution_count": 5,
     "metadata": {},
     "output_type": "execute_result"
    }
   ],
   "source": [
    "crud_list.delete(7)"
   ]
  },
  {
   "cell_type": "code",
   "execution_count": 6,
   "id": "9c1836eb-024a-4600-9107-fdafbabe91d3",
   "metadata": {},
   "outputs": [
    {
     "data": {
      "text/plain": [
       "[3, 'b', 'c', 'd', 'e', 'f', 'g', 'i', 'j', 'k']"
      ]
     },
     "execution_count": 6,
     "metadata": {},
     "output_type": "execute_result"
    }
   ],
   "source": [
    "crud_list.display()"
   ]
  },
  {
   "cell_type": "code",
   "execution_count": 8,
   "id": "c21ce8b4-a501-4c0d-ad36-840cd2e9cdc3",
   "metadata": {},
   "outputs": [
    {
     "data": {
      "text/plain": [
       "'g'"
      ]
     },
     "execution_count": 8,
     "metadata": {},
     "output_type": "execute_result"
    }
   ],
   "source": [
    "crud_list.read(6)"
   ]
  },
  {
   "cell_type": "code",
   "execution_count": 9,
   "id": "e72aeb40-c005-44ef-8f6f-34095ab22c8f",
   "metadata": {},
   "outputs": [
    {
     "data": {
      "text/plain": [
       "[3, 'b', 'c', 'd', 'e', 'f', 'g', 'i', 'j', 'k', 8]"
      ]
     },
     "execution_count": 9,
     "metadata": {},
     "output_type": "execute_result"
    }
   ],
   "source": [
    "crud_list.create(8)"
   ]
  },
  {
   "cell_type": "code",
   "execution_count": 13,
   "id": "344bb619-e2a2-4bab-9a5c-4aec00d473e2",
   "metadata": {},
   "outputs": [
    {
     "data": {
      "text/plain": [
       "['a', 'b', 'c', 'd', 'e', 'f', 'g', 'h', 'i', 'j', 'k']"
      ]
     },
     "execution_count": 13,
     "metadata": {},
     "output_type": "execute_result"
    }
   ],
   "source": [
    "class CRUDOperation:\n",
    "    def __init__(self,initial_list=None):        \n",
    "        if initial_list is None:\n",
    "            self.datastore = []\n",
    "        else:\n",
    "            self.datastore = initial_list\n",
    "\n",
    "    def create(self,value):\n",
    "        self.datastore.append(value)\n",
    "        return self.datastore\n",
    "\n",
    "\n",
    "    def read(self,index):\n",
    "        if 0 <= index < len(self.datastore):\n",
    "            return self.datastore[index]\n",
    "        else:\n",
    "            return (f\"index {index} is out of bound\")\n",
    "\n",
    "    def update(self,value,index):\n",
    "        if 0 <= index < len(self.datastore):\n",
    "            self.datastore[index] = value\n",
    "            return self.datastore\n",
    "        else:\n",
    "            return (f\"index {index} is out of bound\")\n",
    "\n",
    "    def range(self,from_index,to_index):\n",
    "        if 0 <= from_index < len(self.datastore) and 0 <= to_index < len(self.datastore):\n",
    "            return self.datastore[from_index:to_index+1]\n",
    "        else:\n",
    "            print(f\"index is out of bound\")    \n",
    "\n",
    "    def delete(self,index):\n",
    "        if 0 <= index < len(self.datastore):\n",
    "            return self.datastore.pop(index)\n",
    "        else:\n",
    "            return (f\"index {index} is out of bound\")\n",
    "\n",
    "\n",
    "    def display(self):\n",
    "        return self.datastore\n",
    "\n",
    "alpha = [\"a\",\"b\",\"c\",\"d\",\"e\",\"f\",\"g\",\"h\",\"i\",\"j\",\"k\"]\n",
    "crud = CRUDOperation(alpha)\n",
    "crud.display()\n",
    "        "
   ]
  },
  {
   "cell_type": "code",
   "execution_count": 14,
   "id": "b3b2d70f-2e27-4862-bde8-8c84a311c80f",
   "metadata": {},
   "outputs": [
    {
     "data": {
      "text/plain": [
       "['a', 'b', 'c', 'd', 'e']"
      ]
     },
     "execution_count": 14,
     "metadata": {},
     "output_type": "execute_result"
    }
   ],
   "source": [
    "crud.range(0,4)"
   ]
  },
  {
   "cell_type": "code",
   "execution_count": 15,
   "id": "b6174595-ae50-428d-a1ca-620d515b2d9b",
   "metadata": {},
   "outputs": [
    {
     "data": {
      "text/plain": [
       "['__add__',\n",
       " '__class__',\n",
       " '__class_getitem__',\n",
       " '__contains__',\n",
       " '__delattr__',\n",
       " '__delitem__',\n",
       " '__dir__',\n",
       " '__doc__',\n",
       " '__eq__',\n",
       " '__format__',\n",
       " '__ge__',\n",
       " '__getattribute__',\n",
       " '__getitem__',\n",
       " '__getstate__',\n",
       " '__gt__',\n",
       " '__hash__',\n",
       " '__iadd__',\n",
       " '__imul__',\n",
       " '__init__',\n",
       " '__init_subclass__',\n",
       " '__iter__',\n",
       " '__le__',\n",
       " '__len__',\n",
       " '__lt__',\n",
       " '__mul__',\n",
       " '__ne__',\n",
       " '__new__',\n",
       " '__reduce__',\n",
       " '__reduce_ex__',\n",
       " '__repr__',\n",
       " '__reversed__',\n",
       " '__rmul__',\n",
       " '__setattr__',\n",
       " '__setitem__',\n",
       " '__sizeof__',\n",
       " '__str__',\n",
       " '__subclasshook__',\n",
       " 'append',\n",
       " 'clear',\n",
       " 'copy',\n",
       " 'count',\n",
       " 'extend',\n",
       " 'index',\n",
       " 'insert',\n",
       " 'pop',\n",
       " 'remove',\n",
       " 'reverse',\n",
       " 'sort']"
      ]
     },
     "execution_count": 15,
     "metadata": {},
     "output_type": "execute_result"
    }
   ],
   "source": [
    "dir(list)"
   ]
  },
  {
   "cell_type": "markdown",
   "id": "b582d27e-0406-493b-a9e8-823c8d29c6e7",
   "metadata": {},
   "source": [
    "Without List Methods"
   ]
  },
  {
   "cell_type": "code",
   "execution_count": 14,
   "id": "5d3fdb37-87c9-456b-805c-21b273cee831",
   "metadata": {},
   "outputs": [
    {
     "data": {
      "text/plain": [
       "['Z', 'A', 'R', 'Y', 'A', 'B']"
      ]
     },
     "execution_count": 14,
     "metadata": {},
     "output_type": "execute_result"
    }
   ],
   "source": [
    "class MyCrudOperation:\n",
    "    def __init__(self, initial_list=None):\n",
    "        if initial_list is None:\n",
    "            self.data = []\n",
    "        else:\n",
    "            self.data = initial_list\n",
    "    def create(self,value):\n",
    "        self.data[len(self.data):]=[value]\n",
    "        return self.data\n",
    "        print(f\"The {value} is added\")\n",
    "    def read(self,index):\n",
    "        if 0 <= index <= len(self.data):\n",
    "            return self.data[index]\n",
    "        else:\n",
    "            print(f\" {index} is out of range\")\n",
    "\n",
    "    def update(self,index,value):\n",
    "        if 0 <= index <= len(self.data):\n",
    "            self.data[index]= value\n",
    "            return self.data\n",
    "            print(f\"{value} is updated at {index} index\")\n",
    "        else:\n",
    "             print(f\" {index} is out of range\")\n",
    "\n",
    "    def delete(self,index):\n",
    "        if 0 <= index <= len(self.data):\n",
    "             removed_value = self.data[index]\n",
    "             self.data[index:]=self.data[index+1:]\n",
    "             return self.data\n",
    "             print(f\"The {self.data[index]} is removed from {index}\")\n",
    "        else:\n",
    "             print(f\" {index} is out of range\")\n",
    "\n",
    "    def display(self):\n",
    "        return self.data\n",
    "\n",
    "    def range(self, from_index, to_index):\n",
    "        if 0 <= from_index <= to_index < len(self.data_store):\n",
    "            return self.data_store[from_index:to_index + 1]\n",
    "        else:\n",
    "            print(f\" {index} is out of range\")\n",
    "\n",
    "List = [\"Z\",\"A\",\"R\",\"Y\",\"A\",\"B\"]\n",
    "my_crud = MyCrudOperation(List)\n",
    "my_crud.display()\n",
    "        \n",
    "    \n"
   ]
  },
  {
   "cell_type": "code",
   "execution_count": 15,
   "id": "2fbd2555-8e56-4168-952c-485708d56e0d",
   "metadata": {},
   "outputs": [
    {
     "data": {
      "text/plain": [
       "['__class__',\n",
       " '__delattr__',\n",
       " '__dict__',\n",
       " '__dir__',\n",
       " '__doc__',\n",
       " '__eq__',\n",
       " '__format__',\n",
       " '__ge__',\n",
       " '__getattribute__',\n",
       " '__getstate__',\n",
       " '__gt__',\n",
       " '__hash__',\n",
       " '__init__',\n",
       " '__init_subclass__',\n",
       " '__le__',\n",
       " '__lt__',\n",
       " '__module__',\n",
       " '__ne__',\n",
       " '__new__',\n",
       " '__reduce__',\n",
       " '__reduce_ex__',\n",
       " '__repr__',\n",
       " '__setattr__',\n",
       " '__sizeof__',\n",
       " '__str__',\n",
       " '__subclasshook__',\n",
       " '__weakref__',\n",
       " 'create',\n",
       " 'data',\n",
       " 'delete',\n",
       " 'display',\n",
       " 'range',\n",
       " 'read',\n",
       " 'update']"
      ]
     },
     "execution_count": 15,
     "metadata": {},
     "output_type": "execute_result"
    }
   ],
   "source": [
    "dir(my_crud)"
   ]
  },
  {
   "cell_type": "code",
   "execution_count": 16,
   "id": "c00248a2-2456-4001-bcc8-7199317b833e",
   "metadata": {},
   "outputs": [
    {
     "data": {
      "text/plain": [
       "['Z', 'A', 'R', 'Y', 'A', 'B', 'S']"
      ]
     },
     "execution_count": 16,
     "metadata": {},
     "output_type": "execute_result"
    }
   ],
   "source": [
    "my_crud.create(\"S\")"
   ]
  },
  {
   "cell_type": "code",
   "execution_count": 17,
   "id": "ea5f72aa-5ef9-4d0f-b97a-80a907cb8a2f",
   "metadata": {},
   "outputs": [
    {
     "data": {
      "text/plain": [
       "['A', 'R', 'Y', 'A', 'B', 'S']"
      ]
     },
     "execution_count": 17,
     "metadata": {},
     "output_type": "execute_result"
    }
   ],
   "source": [
    "my_crud.delete(0)"
   ]
  },
  {
   "cell_type": "code",
   "execution_count": null,
   "id": "f072252b-eb87-4d43-895f-09c50765f736",
   "metadata": {},
   "outputs": [],
   "source": []
  }
 ],
 "metadata": {
  "kernelspec": {
   "display_name": "Python 3 (ipykernel)",
   "language": "python",
   "name": "python3"
  },
  "language_info": {
   "codemirror_mode": {
    "name": "ipython",
    "version": 3
   },
   "file_extension": ".py",
   "mimetype": "text/x-python",
   "name": "python",
   "nbconvert_exporter": "python",
   "pygments_lexer": "ipython3",
   "version": "3.12.4"
  }
 },
 "nbformat": 4,
 "nbformat_minor": 5
}
