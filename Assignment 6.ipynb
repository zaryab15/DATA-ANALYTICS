{
 "cells": [
  {
   "cell_type": "markdown",
   "id": "8024738c-3bf1-40b5-b181-b8deda8c83ae",
   "metadata": {},
   "source": [
    "1. Write a Python program to construct the following pattern, using a nested for loop."
   ]
  },
  {
   "cell_type": "code",
   "execution_count": 5,
   "id": "47c6789d-281a-4396-8324-de096d32ee41",
   "metadata": {},
   "outputs": [
    {
     "name": "stdout",
     "output_type": "stream",
     "text": [
      "*\n",
      "**\n",
      "***\n",
      "****\n",
      "*****\n"
     ]
    }
   ],
   "source": [
    "x = 5\n",
    "for i in range(1,x+1):\n",
    "    for j in range(1,i+1):\n",
    "        print(\"*\",end=\"\")\n",
    "    print()"
   ]
  },
  {
   "cell_type": "code",
   "execution_count": 8,
   "id": "8d713e35-2ddf-4824-94ed-0163665b2656",
   "metadata": {},
   "outputs": [
    {
     "name": "stdout",
     "output_type": "stream",
     "text": [
      "****\n",
      "***\n",
      "**\n",
      "*\n"
     ]
    }
   ],
   "source": [
    "for i in range(x-1,0,-1):\n",
    "    for j in range(1,i+1):\n",
    "        print(\"*\",end=\"\")\n",
    "    print()\n"
   ]
  },
  {
   "cell_type": "code",
   "execution_count": 9,
   "id": "5529843a-7a5f-4c7a-9765-ad62f0cdda6f",
   "metadata": {},
   "outputs": [
    {
     "name": "stdout",
     "output_type": "stream",
     "text": [
      "*\n",
      "**\n",
      "***\n",
      "****\n",
      "*****\n",
      "****\n",
      "***\n",
      "**\n",
      "*\n"
     ]
    }
   ],
   "source": [
    "x = 5\n",
    "for i in range(1,x+1):\n",
    "    for j in range(1,i+1):\n",
    "        print(\"*\",end=\"\")\n",
    "    print()\n",
    "for i in range(x-1,0,-1):\n",
    "    for j in range(1,i+1):\n",
    "        print(\"*\",end=\"\")\n",
    "    print()"
   ]
  },
  {
   "cell_type": "markdown",
   "id": "ebe8a4d9-c341-49cd-8844-7fcebf92f707",
   "metadata": {},
   "source": [
    "2. Write a Python program to check whether an alphabet which is given by user\n",
    "in input prompt is a vowel or consonant."
   ]
  },
  {
   "cell_type": "code",
   "execution_count": 15,
   "id": "0c58448a-33b7-470e-9ee5-1cc345303755",
   "metadata": {},
   "outputs": [
    {
     "name": "stdin",
     "output_type": "stream",
     "text": [
      "Enter a alphabate A\n"
     ]
    },
    {
     "name": "stdout",
     "output_type": "stream",
     "text": [
      "A is a vowel\n"
     ]
    }
   ],
   "source": [
    "alpha = input('Enter a alphabate')\n",
    "letter = alpha.lower()\n",
    "vowels =[\"a\",\"e\",\"i\",\"o\",\"u\"]\n",
    "for i in vowels:\n",
    "    if letter==i:\n",
    "        print(alpha,\"is a vowel\")\n",
    "        break\n",
    "else:\n",
    "    print(alpha,\"is consonant\")\n",
    "    "
   ]
  },
  {
   "cell_type": "markdown",
   "id": "4ff5ce77-eeb3-4f3c-8294-08bef10f1510",
   "metadata": {},
   "source": [
    "3. Write a Python program to create the multiplication table (from 1 to 10)\n",
    "of a number and the number will be given by user in input prompt.\n",
    "Expected Output:"
   ]
  },
  {
   "cell_type": "code",
   "execution_count": 16,
   "id": "4f197d71-266c-42bd-950b-9a96772b5d11",
   "metadata": {},
   "outputs": [
    {
     "name": "stdin",
     "output_type": "stream",
     "text": [
      "Enter a number: 4\n"
     ]
    },
    {
     "name": "stdout",
     "output_type": "stream",
     "text": [
      "4 x 1 = 4\n",
      "4 x 2 = 8\n",
      "4 x 3 = 12\n",
      "4 x 4 = 16\n",
      "4 x 5 = 20\n",
      "4 x 6 = 24\n",
      "4 x 7 = 28\n",
      "4 x 8 = 32\n",
      "4 x 9 = 36\n",
      "4 x 10 = 40\n"
     ]
    }
   ],
   "source": [
    "num = int(input(\"Enter a number:\"))\n",
    "for i in range(1,11):\n",
    "    print(num,\"x\",i,\"=\",i*num)"
   ]
  },
  {
   "cell_type": "markdown",
   "id": "d53a8c64-a3b5-439f-823e-100887e71432",
   "metadata": {},
   "source": [
    "4. Write a Python program to guess a number between 1 and 9.\n",
    "Note : User is prompted to enter a guess. If the user guesses wrong then\n",
    "the prompt appears again until the guess is correct, on successful guess,\n",
    "user will get a \"Well guessed!\" message, and the program will exit.\n"
   ]
  },
  {
   "cell_type": "code",
   "execution_count": 18,
   "id": "c3451d19-e187-4124-bf0b-58acb8045748",
   "metadata": {},
   "outputs": [
    {
     "name": "stdin",
     "output_type": "stream",
     "text": [
      "Enter your guess number 11\n"
     ]
    },
    {
     "name": "stdout",
     "output_type": "stream",
     "text": [
      "Try again\n"
     ]
    },
    {
     "name": "stdin",
     "output_type": "stream",
     "text": [
      "Enter your guess number 12\n"
     ]
    },
    {
     "name": "stdout",
     "output_type": "stream",
     "text": [
      "Try again\n"
     ]
    },
    {
     "name": "stdin",
     "output_type": "stream",
     "text": [
      "Enter your guess number 8\n"
     ]
    },
    {
     "name": "stdout",
     "output_type": "stream",
     "text": [
      "Try again\n"
     ]
    },
    {
     "name": "stdin",
     "output_type": "stream",
     "text": [
      "Enter your guess number 7\n"
     ]
    },
    {
     "name": "stdout",
     "output_type": "stream",
     "text": [
      "Try again\n"
     ]
    },
    {
     "name": "stdin",
     "output_type": "stream",
     "text": [
      "Enter your guess number 9\n"
     ]
    },
    {
     "name": "stdout",
     "output_type": "stream",
     "text": [
      "Well guessed\n"
     ]
    }
   ],
   "source": [
    "x = 9\n",
    "while True:\n",
    "    user_guess = int(input(\"Enter your guess number\"))\n",
    "    if user_guess ==x:\n",
    "        print(\"Well guessed\")\n",
    "        break\n",
    "    else:\n",
    "        print(\"Try again\")\n",
    "    "
   ]
  },
  {
   "cell_type": "markdown",
   "id": "628ea728-0afd-4638-b9a9-4e781b4d12ad",
   "metadata": {},
   "source": [
    "5. Write a  Python program to filter the height and width of students, which are stored in a dictionary.\n"
   ]
  },
  {
   "cell_type": "code",
   "execution_count": 23,
   "id": "51049a0e-6062-4106-9a9f-0fcecfaa8d75",
   "metadata": {},
   "outputs": [
    {
     "name": "stdout",
     "output_type": "stream",
     "text": [
      "Filtered_Student_Dic {'Alden Cantrell': (6.9, 75), 'Pierre Cox': (6.8, 85)}\n"
     ]
    }
   ],
   "source": [
    "student = {'Cierra Vega': (6.2, 70), 'Alden Cantrell': (6.9, 75), 'Kierra Gentry': (6.0, 68), 'Pierre Cox': (6.8, 85)}\n",
    "filtered_student = {}\n",
    "for i in student:\n",
    "    height,weight=student[i]\n",
    "    if height > 6 and weight > 70:\n",
    "        filtered_student[i] = (height,weight)\n",
    "print(\"Filtered_Student_Dic\",filtered_student)"
   ]
  },
  {
   "cell_type": "markdown",
   "id": "78b660d1-c989-48e7-9ba5-c683077976f2",
   "metadata": {},
   "source": [
    "6. A  Python dictionary contains List as a value. Write a Python program to clear the list values in the said dictionary."
   ]
  },
  {
   "cell_type": "code",
   "execution_count": 1,
   "id": "b9f93713-e921-4622-98ba-f33c6f54aafa",
   "metadata": {},
   "outputs": [
    {
     "name": "stdout",
     "output_type": "stream",
     "text": [
      "{'C1': [], 'C2': [], 'C3': []}\n"
     ]
    }
   ],
   "source": [
    "original_dic = {'C1': [10, 20, 30], 'C2': [20, 30, 40], 'C3': [12, 34]}\n",
    "for i in original_dic:\n",
    "    original_dic[i]=[]\n",
    "print(original_dic)"
   ]
  },
  {
   "cell_type": "markdown",
   "id": "c8319171-f7f5-4fb2-930e-5aa4cd634911",
   "metadata": {},
   "source": [
    "7.  Rivers: Make a dictionary containing three major rivers and the country\n",
    "each river runs through. One key-value pair might be 'nile': 'egypt'.\n",
    "• Use a loop to print a sentence about each river, such as The Nile runs\n",
    "through Egypt.\n",
    "• Use a loop to print the name of each river included in the dictionary.\n",
    "• Use a loop to print the name of each country included in the dictionary."
   ]
  },
  {
   "cell_type": "code",
   "execution_count": 2,
   "id": "153b69d3-fb0b-44d3-89c1-7503839e57ac",
   "metadata": {},
   "outputs": [
    {
     "name": "stdout",
     "output_type": "stream",
     "text": [
      "The Nile runs through Africa\n",
      "The Amazon runs through America\n",
      "The Yellow runs through China\n"
     ]
    }
   ],
   "source": [
    "rivers = {'Nile':'Africa','Amazon':'America','Yellow':'China'}\n",
    "for i in rivers:\n",
    "    print(\"The\",i,\"runs through\",rivers[i])"
   ]
  },
  {
   "cell_type": "code",
   "execution_count": 4,
   "id": "cb666a94-1fb6-49ae-b9cd-747e266dbeab",
   "metadata": {},
   "outputs": [
    {
     "name": "stdout",
     "output_type": "stream",
     "text": [
      "Nile\n",
      "Amazon\n",
      "Yellow\n"
     ]
    }
   ],
   "source": [
    "for i in rivers:\n",
    "    print(i)"
   ]
  },
  {
   "cell_type": "code",
   "execution_count": 5,
   "id": "708f6e95-8530-4e49-88c0-a4ca9fc12fd6",
   "metadata": {},
   "outputs": [
    {
     "name": "stdout",
     "output_type": "stream",
     "text": [
      "Africa\n",
      "America\n",
      "China\n"
     ]
    }
   ],
   "source": [
    "for i in rivers:\n",
    "    print(rivers[i])"
   ]
  },
  {
   "cell_type": "markdown",
   "id": "f3ebe9a2-408e-40d0-bd2d-3612044ec9df",
   "metadata": {},
   "source": [
    "8. Movie Tickets: A movie theater charges different ticket prices depending on\n",
    "a person’s age. If a person is under the age of 3, the ticket is free; if they are\n",
    "between 3 and 12, the ticket is $10; and if they are over age 12, the ticket is\n",
    "$15. Write a loop in which you ask users their age, and then tell them the cost\n",
    "of their movie ticket."
   ]
  },
  {
   "cell_type": "code",
   "execution_count": 10,
   "id": "98b4c535-542c-4741-bf15-c400bdf1388f",
   "metadata": {},
   "outputs": [
    {
     "name": "stdin",
     "output_type": "stream",
     "text": [
      "Enter the age to know the price if you don't want type 0: 5.6\n"
     ]
    },
    {
     "name": "stdout",
     "output_type": "stream",
     "text": [
      "Your Ticket price is 10$\n"
     ]
    },
    {
     "name": "stdin",
     "output_type": "stream",
     "text": [
      "Enter the age to know the price if you don't want type 0: 15\n"
     ]
    },
    {
     "name": "stdout",
     "output_type": "stream",
     "text": [
      "Your Ticket price is 15$\n"
     ]
    },
    {
     "name": "stdin",
     "output_type": "stream",
     "text": [
      "Enter the age to know the price if you don't want type 0: 65\n"
     ]
    },
    {
     "name": "stdout",
     "output_type": "stream",
     "text": [
      "Your Ticket price is 15$\n"
     ]
    },
    {
     "name": "stdin",
     "output_type": "stream",
     "text": [
      "Enter the age to know the price if you don't want type 0: 0\n"
     ]
    },
    {
     "name": "stdout",
     "output_type": "stream",
     "text": [
      "Thanks for visiting:\n"
     ]
    }
   ],
   "source": [
    "while True:\n",
    "    age = float(input(\"Enter the age to know the price if you don't want type 0:\"))\n",
    "    if age ==0:\n",
    "        print(\"Thanks for visiting:\")\n",
    "        break\n",
    "    elif age < 3:\n",
    "        print(\"You have free entry\")\n",
    "    elif age > 3 and age <12:\n",
    "        print(\"Your Ticket price is 10$\")\n",
    "    else:\n",
    "        print(\"Your Ticket price is 15$\")\n",
    "    "
   ]
  },
  {
   "cell_type": "code",
   "execution_count": null,
   "id": "e184ee97-aec5-46c6-a1bd-b460e81dbc5a",
   "metadata": {},
   "outputs": [],
   "source": []
  }
 ],
 "metadata": {
  "kernelspec": {
   "display_name": "Python 3 (ipykernel)",
   "language": "python",
   "name": "python3"
  },
  "language_info": {
   "codemirror_mode": {
    "name": "ipython",
    "version": 3
   },
   "file_extension": ".py",
   "mimetype": "text/x-python",
   "name": "python",
   "nbconvert_exporter": "python",
   "pygments_lexer": "ipython3",
   "version": "3.12.4"
  }
 },
 "nbformat": 4,
 "nbformat_minor": 5
}
