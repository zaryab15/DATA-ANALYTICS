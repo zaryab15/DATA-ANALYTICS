{
 "cells": [
  {
   "cell_type": "markdown",
   "id": "aafea621-1401-456b-99aa-404e14d83e68",
   "metadata": {},
   "source": [
    "Employee Data Bank"
   ]
  },
  {
   "cell_type": "markdown",
   "id": "fc176291-286e-4fef-b839-1d53af81194a",
   "metadata": {},
   "source": [
    "Make a class called Employee. The __init__() method for Employee should store its different attributes: name, number, address, salary, post, year of joining, education, and his year of experience."
   ]
  },
  {
   "cell_type": "code",
   "execution_count": 3,
   "id": "31b7391f-8965-449a-aeb7-eaa92d811eb3",
   "metadata": {},
   "outputs": [],
   "source": [
    "class Employee:\n",
    "    def __init__(self):\n",
    "        self.name = input(\"Enter the name of the Employee:\")\n",
    "        self.number = int(input(\"Enter the number of the Employee:\"))\n",
    "        self.address = str(input(\"Enter the address:\"))\n",
    "        self.salary = int(input(\"Enter the salary:\"))\n",
    "        self.post = input(\"Enter the post:\")\n",
    "        self.year_of_joining = int(input(\"Enter the Year of joining:\"))\n",
    "        self.education = str(input(\"Enter the Education:\"))\n",
    "        self.year_of_experiance = int(input(\"Enter the year of experiance:\"))\n",
    "                          \n",
    "        "
   ]
  },
  {
   "cell_type": "markdown",
   "id": "452ce78c-b53b-493c-8c12-ee386dd2837a",
   "metadata": {},
   "source": [
    "Make a method called describe_employee() that prints the detail Information about employee, a method update_ year_of_experience(), and a method called increase_salary() that do increamnet in it's salary."
   ]
  },
  {
   "cell_type": "code",
   "execution_count": 14,
   "id": "617cb553-409d-4e3b-9a27-ec6e2815c639",
   "metadata": {},
   "outputs": [
    {
     "name": "stdin",
     "output_type": "stream",
     "text": [
      "Enter the name of the Employee: Javeria Mallick\n",
      "Enter the number of the Employee: 92326196106\n",
      "Enter the address: North Nazimabad\n",
      "Enter the salary: 80000\n",
      "Enter the post: Planning Executive\n",
      "Enter the Year of joining: 2022\n",
      "Enter the Education: Graduation\n",
      "Enter the year of experiance: 2\n"
     ]
    },
    {
     "name": "stdout",
     "output_type": "stream",
     "text": [
      "The name of employee is Javeria Mallick\n",
      "The number of employee is 92326196106\n",
      "The address of employee is North Nazimabad\n",
      "The salary of the employee is 80000\n",
      "The post of the employee is Planning Executive\n",
      "The year of joining is 2022\n",
      "The education of the employee is Graduation\n",
      "The employee has 2 years of experiance\n"
     ]
    },
    {
     "name": "stdin",
     "output_type": "stream",
     "text": [
      "Current year: 2025\n"
     ]
    },
    {
     "name": "stdout",
     "output_type": "stream",
     "text": [
      "Updated year of experiance of Javeria Mallick is 3\n"
     ]
    },
    {
     "name": "stdin",
     "output_type": "stream",
     "text": [
      "Percentage of increment 20\n"
     ]
    },
    {
     "name": "stdout",
     "output_type": "stream",
     "text": [
      "The new salary of Javeria Mallick after the increment of 20.0% is 96000.0\n"
     ]
    }
   ],
   "source": [
    "class Employee:\n",
    "    def __init__(self):\n",
    "        self.name = input(\"Enter the name of the Employee:\")\n",
    "        self.number = int(input(\"Enter the number of the Employee:\"))\n",
    "        self.address = str(input(\"Enter the address:\"))\n",
    "        self.salary = int(input(\"Enter the salary:\"))\n",
    "        self.post = input(\"Enter the post:\")\n",
    "        self.year_of_joining = int(input(\"Enter the Year of joining:\"))\n",
    "        self.education = str(input(\"Enter the Education:\"))\n",
    "        self.year_of_experiance = int(input(\"Enter the year of experiance:\"))\n",
    "        \n",
    "    def describe_employee(self):\n",
    "       print(f\"The name of employee is {self.name}\")\n",
    "       print(f\"The number of employee is {self.number}\")\n",
    "       print(f\"The address of employee is {self.address}\")\n",
    "       print(f\"The salary of the employee is {self.salary}\")\n",
    "       print(f\"The post of the employee is {self.post}\")\n",
    "       print(f\"The year of joining is {self.year_of_joining}\")\n",
    "       print(f\"The education of the employee is {self.education}\")\n",
    "       print(f\"The employee has {self.year_of_experiance} years of experiance\")\n",
    "    \n",
    "    def update_year_of_experiance(self,current_year):\n",
    "       self.year_of_experiance = current_year - self.year_of_joining\n",
    "       print(f\"Updated year of experiance of {self.name} is {self.year_of_experiance}\")\n",
    "\n",
    "    def increase_salary(self,increment):\n",
    "        self.salary += (self.salary)*(increment)\n",
    "        print(f\"The new salary of {self.name} after the increment of {(increment*100)}% is {self.salary}\")\n",
    "\n",
    "employee101 = Employee()\n",
    "employee101.describe_employee()\n",
    "employee101.update_year_of_experiance(int(input(\"Current year:\")))\n",
    "employee101.increase_salary((int(input(\"Percentage of increment\"))/100))"
   ]
  },
  {
   "cell_type": "markdown",
   "id": "483915a9-550f-4615-8929-1ca46dc31446",
   "metadata": {},
   "source": [
    "Without OOPS"
   ]
  },
  {
   "cell_type": "code",
   "execution_count": 2,
   "id": "ada5e5ff-259a-47d5-9172-54403bd226ee",
   "metadata": {},
   "outputs": [
    {
     "name": "stdout",
     "output_type": "stream",
     "text": [
      "Employee Name: John Doe\n",
      "Employee Number: 101\n",
      "Address: 123 Elm St\n",
      "Post: Manager\n",
      "Salary: 50000\n",
      "Year of Joining: 2015\n",
      "Education: MBA\n",
      "Years of Experience: 8\n",
      "Employee Name: Jane Smith\n",
      "Employee Number: 102\n",
      "Address: 456 Oak St\n",
      "Post: Engineer\n",
      "Salary: 55000\n",
      "Year of Joining: 2017\n",
      "Education: BSc Engg\n",
      "Years of Experience: 6\n",
      "Employee Name: Alice Johnson\n",
      "Employee Number: 103\n",
      "Address: 789 Pine St\n",
      "Post: Analyst\n",
      "Salary: 60000\n",
      "Year of Joining: 2018\n",
      "Education: MSc\n",
      "Years of Experience: 5\n",
      "Employee Name: Bob Brown\n",
      "Employee Number: 104\n",
      "Address: 321 Maple St\n",
      "Post: Technician\n",
      "Salary: 48000\n",
      "Year of Joining: 2016\n",
      "Education: Diploma\n",
      "Years of Experience: 7\n",
      "Employee Name: Charlie Davis\n",
      "Employee Number: 105\n",
      "Address: 654 Birch St\n",
      "Post: Supervisor\n",
      "Salary: 52000\n",
      "Year of Joining: 2014\n",
      "Education: BBA\n",
      "Years of Experience: 9\n",
      "Employee Name: Diana Evans\n",
      "Employee Number: 106\n",
      "Address: 987 Cedar St\n",
      "Post: Director\n",
      "Salary: 70000\n",
      "Year of Joining: 2012\n",
      "Education: PhD\n",
      "Years of Experience: 12\n",
      "Employee Name: Frank Green\n",
      "Employee Number: 107\n",
      "Address: 147 Walnut St\n",
      "Post: Clerk\n",
      "Salary: 47000\n",
      "Year of Joining: 2019\n",
      "Education: BA\n",
      "Years of Experience: 4\n",
      "Employee Name: Grace Hill\n",
      "Employee Number: 108\n",
      "Address: 258 Ash St\n",
      "Post: Consultant\n",
      "Salary: 62000\n",
      "Year of Joining: 2013\n",
      "Education: MBA\n",
      "Years of Experience: 10\n",
      "Employee Name: Harry Lee\n",
      "Employee Number: 109\n",
      "Address: 369 Chestnut St\n",
      "Post: Assistant\n",
      "Salary: 45000\n",
      "Year of Joining: 2020\n",
      "Education: BCom\n",
      "Years of Experience: 3\n",
      "Employee Name: Irene King\n",
      "Employee Number: 110\n",
      "Address: 741 Spruce St\n",
      "Post: Lead Engineer\n",
      "Salary: 64000\n",
      "Year of Joining: 2011\n",
      "Education: MEngg\n",
      "Years of Experience: 13\n"
     ]
    }
   ],
   "source": [
    "# Function to create an employee with predefined values\n",
    "def create_employee(name, number, address, salary, post, year_of_joining, education, year_of_experience):\n",
    "    employee = {}\n",
    "    employee['name'] = name\n",
    "    employee['number'] = number\n",
    "    employee['address'] = address\n",
    "    employee['salary'] = salary\n",
    "    employee['post'] = post\n",
    "    employee['year_of_joining'] = year_of_joining\n",
    "    employee['education'] = education\n",
    "    employee['year_of_experience'] = year_of_experience\n",
    "    return employee\n",
    "    \n",
    "def describe_employee(employee):\n",
    "    print(f\"Employee Name: {employee['name']}\")\n",
    "    print(f\"Employee Number: {employee['number']}\")\n",
    "    print(f\"Address: {employee['address']}\")\n",
    "    print(f\"Post: {employee['post']}\")\n",
    "    print(f\"Salary: {employee['salary']}\")\n",
    "    print(f\"Year of Joining: {employee['year_of_joining']}\")\n",
    "    print(f\"Education: {employee['education']}\")\n",
    "    print(f\"Years of Experience: {employee['year_of_experience']}\")\n",
    "\n",
    "def update_year_of_experience(employee, current_year):\n",
    "    employee['year_of_experience'] = current_year - employee['year_of_joining']\n",
    "    print(f\"Updated Experience for {employee['name']}: {employee['year_of_experience']} years\")\n",
    "\n",
    "def increase_salary(employee, increment):\n",
    "    employee['salary'] += increment\n",
    "    print(f\"New Salary for {employee['name']}: {employee['salary']}\")\n",
    "\n",
    "employees = [\n",
    "    create_employee(\"John Doe\", 101, \"123 Elm St\", 50000, \"Manager\", 2015, \"MBA\", 8),\n",
    "    create_employee(\"Jane Smith\", 102, \"456 Oak St\", 55000, \"Engineer\", 2017, \"BSc Engg\", 6),\n",
    "    create_employee(\"Alice Johnson\", 103, \"789 Pine St\", 60000, \"Analyst\", 2018, \"MSc\", 5),\n",
    "    create_employee(\"Bob Brown\", 104, \"321 Maple St\", 48000, \"Technician\", 2016, \"Diploma\", 7),\n",
    "    create_employee(\"Charlie Davis\", 105, \"654 Birch St\", 52000, \"Supervisor\", 2014, \"BBA\", 9),\n",
    "    create_employee(\"Diana Evans\", 106, \"987 Cedar St\", 70000, \"Director\", 2012, \"PhD\", 12),\n",
    "    create_employee(\"Frank Green\", 107, \"147 Walnut St\", 47000, \"Clerk\", 2019, \"BA\", 4),\n",
    "    create_employee(\"Grace Hill\", 108, \"258 Ash St\", 62000, \"Consultant\", 2013, \"MBA\", 10),\n",
    "    create_employee(\"Harry Lee\", 109, \"369 Chestnut St\", 45000, \"Assistant\", 2020, \"BCom\", 3),\n",
    "    create_employee(\"Irene King\", 110, \"741 Spruce St\", 64000, \"Lead Engineer\", 2011, \"MEngg\", 13)\n",
    "]\n",
    "\n",
    "for emp in employees:\n",
    "    describe_employee(emp)\n"
   ]
  },
  {
   "cell_type": "code",
   "execution_count": null,
   "id": "1af03cda-37d4-41d6-91be-f6cbda7bc309",
   "metadata": {},
   "outputs": [],
   "source": [
    "update_year_of_experiance("
   ]
  }
 ],
 "metadata": {
  "kernelspec": {
   "display_name": "Python 3 (ipykernel)",
   "language": "python",
   "name": "python3"
  },
  "language_info": {
   "codemirror_mode": {
    "name": "ipython",
    "version": 3
   },
   "file_extension": ".py",
   "mimetype": "text/x-python",
   "name": "python",
   "nbconvert_exporter": "python",
   "pygments_lexer": "ipython3",
   "version": "3.12.4"
  }
 },
 "nbformat": 4,
 "nbformat_minor": 5
}
