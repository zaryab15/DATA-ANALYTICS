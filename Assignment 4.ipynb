{
 "cells": [
  {
   "cell_type": "markdown",
   "id": "b279822e-a368-49c2-b854-409ff83099ec",
   "metadata": {},
   "source": [
    "**4-1. Guest List: If you could invite anyone, living or deceased, to dinner, who\n",
    "would you invite? Make a list that includes at least three people you’d like to\n",
    "invite to dinner. Then use your list to print a message to each person, inviting\n",
    "them to dinner**"
   ]
  },
  {
   "cell_type": "code",
   "execution_count": 54,
   "id": "ec204176-a2e3-43ea-83ae-3a382fe727a7",
   "metadata": {},
   "outputs": [
    {
     "name": "stdout",
     "output_type": "stream",
     "text": [
      "I will invite the Living People\n"
     ]
    },
    {
     "name": "stdin",
     "output_type": "stream",
     "text": [
      "Enter the name of 1st guest : Ali\n",
      "Enter the name of 2nd guest : Khurram\n",
      "Enter the name of 3rd guest : Jamal\n"
     ]
    },
    {
     "name": "stdout",
     "output_type": "stream",
     "text": [
      "The invited guests are ['Ali', 'Khurram', 'Jamal']\n",
      "Ali ,you inivited on Dinner Tonight\n",
      "Khurram ,you are inivited on Dinner Tonight\n",
      "Jamal ,you are inivited on Dinner Tonight\n",
      "Ali ,will not come\n"
     ]
    }
   ],
   "source": [
    "print(\"I will invite the Living People\")\n",
    "guest_1 = str(input(\"Enter the name of 1st guest :\"))\n",
    "guest_2 = str(input(\"Enter the name of 2nd guest :\"))\n",
    "guest_3 = str(input(\"Enter the name of 3rd guest :\"))\n",
    "guest_list = [guest_1,guest_2,guest_3]\n",
    "print(\"The invited guests are\",guest_list)\n",
    "print(guest_list[0],\",you inivited on Dinner Tonight\")\n",
    "print(guest_list[1],\",you are inivited on Dinner Tonight\")\n",
    "print(guest_list[2],\",you are inivited on Dinner Tonight\")\n",
    "print(guest_list[0],\",will not come\")"
   ]
  },
  {
   "cell_type": "markdown",
   "id": "5ead35d6-25c2-4e13-b259-9118a5051e3e",
   "metadata": {},
   "source": [
    "**4-2. Changing Guest List: You just heard that one of your guests can’t make the\n",
    "dinner, so you need to send out a new set of invitations. You’ll have to think of\n",
    "someone else to invite**"
   ]
  },
  {
   "cell_type": "code",
   "execution_count": 55,
   "id": "e7719781-3e45-40c1-b4a2-0189a7c50f1d",
   "metadata": {},
   "outputs": [
    {
     "name": "stdout",
     "output_type": "stream",
     "text": [
      "Now the guest are ['Noman', 'Khurram', 'Jamal']\n",
      "Noman ,you are cordially invited on the dinner tonight\n",
      "Khurram ,you are cordially invited on the dinner tonight\n",
      "Jamal ,you are cordially invited on the dinner tonight\n"
     ]
    }
   ],
   "source": [
    "guest_list[0] = \"Noman\"\n",
    "updated_guest_list = guest_list\n",
    "print(\"Now the guest are\",updated_guest_list)\n",
    "print(updated_guest_list[0],\",you are cordially invited on the dinner tonight\")\n",
    "print(updated_guest_list[1],\",you are cordially invited on the dinner tonight\")\n",
    "print(updated_guest_list[2],\",you are cordially invited on the dinner tonight\")"
   ]
  },
  {
   "cell_type": "markdown",
   "id": "726b4d83-25a0-4c01-a751-d2426f447196",
   "metadata": {},
   "source": [
    "**More Guests: You just found a bigger dinner table, so now more space is\n",
    "available. Think of three more guests to invite to dinner.\n",
    "•     Start with your program from Exercise 4-1 or Exercise 4-2. Add a print\n",
    "statement to the end of your program informing people that you found a\n",
    "bigger dinner table.** "
   ]
  },
  {
   "cell_type": "code",
   "execution_count": 56,
   "id": "7a3295a0-d8f3-4204-a95b-585152c99e80",
   "metadata": {},
   "outputs": [
    {
     "name": "stdout",
     "output_type": "stream",
     "text": [
      "Noman , Khurram , Jamal luckliy I have a bigger table so 3 more guests are joining us\n"
     ]
    }
   ],
   "source": [
    "print(updated_guest_list[0],\",\",updated_guest_list[1],\",\",updated_guest_list[2],\"luckliy I have a bigger table so 3 more guests are joining us\")"
   ]
  },
  {
   "cell_type": "code",
   "execution_count": 57,
   "id": "c1305632-fbcc-4f19-9eeb-07a9053fbb38",
   "metadata": {},
   "outputs": [
    {
     "data": {
      "text/plain": [
       "['Zaryab', 'Noman', 'Khurram', 'Raza', 'Jamal', 'Khan']"
      ]
     },
     "execution_count": 57,
     "metadata": {},
     "output_type": "execute_result"
    }
   ],
   "source": [
    "#Use insert() to add one new guest to the beginning of your list.\n",
    "updated_guest_list.insert(0,'Zaryab')\n",
    "#Use insert() to add one new guest to the middle of your list\n",
    "updated_guest_list.insert(3,'Raza')\n",
    "#Use append() to add one new guest to the end of your list.\n",
    "updated_guest_list.append(\"Khan\")\n",
    "updated_guest_list"
   ]
  },
  {
   "cell_type": "code",
   "execution_count": 58,
   "id": "d09d0857-8ced-4208-8f4a-11f84a5c788e",
   "metadata": {},
   "outputs": [
    {
     "name": "stdout",
     "output_type": "stream",
     "text": [
      "Zaryab , you are cordially invited on dinner tonight\n",
      "Noman , you are cordially invited on dinner tonight\n",
      "Khurram , you are cordially invited on dinner tonight\n",
      "Raza , you are cordially invited on dinner tonight\n",
      "Jamal , you are cordially invited on dinner tonight\n",
      "Khan , you are cordially invited on dinner tonight\n"
     ]
    }
   ],
   "source": [
    "#Print a new set of invitation messages, one for each person in your list\n",
    "for i in updated_guest_list:\n",
    "    print(i,\", you are cordially invited on dinner tonight\")"
   ]
  },
  {
   "cell_type": "markdown",
   "id": "625be481-b22f-4d96-b920-db1be8fc7df5",
   "metadata": {},
   "source": [
    "**4-4. Shrinking Guest List: You just found out that your new dinner table won’t\n",
    "arrive in time for the dinner, and you have space for only two guests**"
   ]
  },
  {
   "cell_type": "code",
   "execution_count": 59,
   "id": "e65fb2f0-de70-4a26-9a05-572aac8342c5",
   "metadata": {},
   "outputs": [
    {
     "name": "stdout",
     "output_type": "stream",
     "text": [
      "Due to the shortage of dinner , I can invite only 2 People\n"
     ]
    }
   ],
   "source": [
    "#Start with your program from Exercise 4-3. Add a new line that prints a message saying that you can invite only two people for dinner.\n",
    "print(\"Due to the shortage of dinner , I can invite only 2 People\")"
   ]
  },
  {
   "cell_type": "code",
   "execution_count": 60,
   "id": "40469209-0380-4472-8b69-d56d311f17a3",
   "metadata": {},
   "outputs": [
    {
     "data": {
      "text/plain": [
       "['Zaryab', 'Noman', 'Khurram', 'Raza', 'Jamal', 'Khan']"
      ]
     },
     "execution_count": 60,
     "metadata": {},
     "output_type": "execute_result"
    }
   ],
   "source": [
    "updated_guest_list"
   ]
  },
  {
   "cell_type": "code",
   "execution_count": 61,
   "id": "9e6b62ac-1c89-4da6-8005-3c1db66e8e93",
   "metadata": {},
   "outputs": [
    {
     "name": "stdout",
     "output_type": "stream",
     "text": [
      "Zaryab Sorry you are not invited\n",
      "Noman Sorry you are not invited\n",
      "Khurram Sorry you are not invited\n"
     ]
    },
    {
     "data": {
      "text/plain": [
       "'Khurram'"
      ]
     },
     "execution_count": 61,
     "metadata": {},
     "output_type": "execute_result"
    }
   ],
   "source": [
    "#Use pop() to remove guests from your list one at a time until only two names remain in your list. Each time you pop a name from your list, print a message to that person letting them know you’re sorry you can’t invite them to dinner\"\"\"\n",
    "print(updated_guest_list[0],\"Sorry you are not invited\")\n",
    "updated_guest_list.pop(0)\n",
    "print(updated_guest_list[0],\"Sorry you are not invited\")\n",
    "updated_guest_list.pop(0)\n",
    "print(updated_guest_list[0],\"Sorry you are not invited\")\n",
    "updated_guest_list.pop(0)"
   ]
  },
  {
   "cell_type": "code",
   "execution_count": 62,
   "id": "a66c556d-7388-4ccf-8b20-a64a6b7fff4f",
   "metadata": {},
   "outputs": [
    {
     "data": {
      "text/plain": [
       "['Raza', 'Jamal', 'Khan']"
      ]
     },
     "execution_count": 62,
     "metadata": {},
     "output_type": "execute_result"
    }
   ],
   "source": [
    "updated_guest_list"
   ]
  },
  {
   "cell_type": "code",
   "execution_count": 63,
   "id": "cd977b90-fd0b-46fd-9828-632de3034215",
   "metadata": {},
   "outputs": [
    {
     "name": "stdout",
     "output_type": "stream",
     "text": [
      "Raza Sorry you are not invited\n"
     ]
    },
    {
     "data": {
      "text/plain": [
       "'Raza'"
      ]
     },
     "execution_count": 63,
     "metadata": {},
     "output_type": "execute_result"
    }
   ],
   "source": [
    "print(updated_guest_list[0],\"Sorry you are not invited\")\n",
    "updated_guest_list.pop(0)"
   ]
  },
  {
   "cell_type": "code",
   "execution_count": 64,
   "id": "dba8b7c5-8984-4df2-be03-9c86c04a83c5",
   "metadata": {},
   "outputs": [
    {
     "name": "stdout",
     "output_type": "stream",
     "text": [
      "Jamal you are still invited\n",
      "Khan you are still invited\n"
     ]
    }
   ],
   "source": [
    "#Print a message to each of the two people still on your list, letting them know they’re still invited. \n",
    "for i in updated_guest_list:\n",
    "    print(i, \"you are still invited\")"
   ]
  },
  {
   "cell_type": "code",
   "execution_count": 67,
   "id": "39e711e0-fdf3-47cb-abf3-68871417f033",
   "metadata": {},
   "outputs": [
    {
     "data": {
      "text/plain": [
       "[]"
      ]
     },
     "execution_count": 67,
     "metadata": {},
     "output_type": "execute_result"
    }
   ],
   "source": [
    "#Use del to remove the last two names from your list, so you have an empty list. Print your list to make sure you actually have an empty list at the end of your program.\n",
    "del updated_guest_list[::-1]\n",
    "updated_guest_list"
   ]
  },
  {
   "cell_type": "markdown",
   "id": "34fe203b-8b56-459e-9466-c23e9ae63165",
   "metadata": {},
   "source": [
    " **Also all those students who had not completed their marksheet assignment complete that with this one**"
   ]
  },
  {
   "cell_type": "code",
   "execution_count": 2,
   "id": "5f545c71-7c3a-4ade-9bc6-ec6e14020d06",
   "metadata": {},
   "outputs": [
    {
     "name": "stdin",
     "output_type": "stream",
     "text": [
      "Enter marks of 1st Subj : 80\n",
      "Enter marks of 2nd Subj : 60\n",
      "Enter marks of 3rd Subj : 70\n",
      "Enter marks of 4th Subj : 80\n",
      "Enter marks of 5th Subj : 90\n",
      "Enter the total marks: 500\n"
     ]
    },
    {
     "name": "stdout",
     "output_type": "stream",
     "text": [
      "Total Marks = 500.0 \n",
      "Obtained Marks= 380.0 \n",
      "Percetage= 76.0 % \n",
      "Grade= A\n"
     ]
    }
   ],
   "source": [
    "subj1 = float(input(\"Enter marks of 1st Subj :\")) \n",
    "subj2 = float(input(\"Enter marks of 2nd Subj :\")) \n",
    "subj3 = float(input(\"Enter marks of 3rd Subj :\"))\n",
    "subj4 = float(input(\"Enter marks of 4th Subj :\")) \n",
    "subj5 = float(input(\"Enter marks of 5th Subj :\")) \n",
    "Obtained_Marks = subj1+subj2+subj3+subj4+subj5\n",
    "Total_Marks = float(input(\"Enter the total marks:\"))\n",
    "percentage = (Obtained_Marks/Total_Marks)*100\n",
    "if percentage>= 80:\n",
    "    grade=\"A+\"\n",
    "elif 70<=percentage<80:\n",
    "    grade=\"A\"\n",
    "elif 60<=percentage<70:\n",
    "    grade=\"B\"\n",
    "elif 50<=percentage<60:\n",
    "    grade=\"C\"\n",
    "else:\n",
    "    grade=\"Fail\"\n",
    "print(\"Total Marks =\",Total_Marks,\"\\nObtained Marks=\",Obtained_Marks,\"\\nPercetage=\",percentage, \"%\",\"\\nGrade=\",grade)\n"
   ]
  },
  {
   "cell_type": "markdown",
   "id": "aaa1a163-fe9a-43fe-9ccb-ec1f71f12962",
   "metadata": {},
   "source": [
    "**4-5. Make an another list you wish and perform indexing and slicing operations on it**"
   ]
  },
  {
   "cell_type": "code",
   "execution_count": 1,
   "id": "4b39697e-a515-4367-a25b-54bca4cc27d2",
   "metadata": {},
   "outputs": [
    {
     "data": {
      "text/plain": [
       "[[1, 2, 3], [4, 5, 6], [7, 8, 9], [10, 11, 12]]"
      ]
     },
     "execution_count": 1,
     "metadata": {},
     "output_type": "execute_result"
    }
   ],
   "source": [
    "list= [\n",
    "    [1, 2, 3],\n",
    "    [4, 5, 6],\n",
    "    [7, 8, 9],\n",
    "    [10, 11, 12]\n",
    "]\n",
    "list"
   ]
  },
  {
   "cell_type": "code",
   "execution_count": 2,
   "id": "a8cf227e-c59a-4031-abdb-2855b27eb6df",
   "metadata": {},
   "outputs": [
    {
     "data": {
      "text/plain": [
       "[7, 8, 9]"
      ]
     },
     "execution_count": 2,
     "metadata": {},
     "output_type": "execute_result"
    }
   ],
   "source": [
    "list[2][:]"
   ]
  },
  {
   "cell_type": "code",
   "execution_count": 3,
   "id": "d3b7f199-fc7f-4f95-b634-3a99348c7bbb",
   "metadata": {},
   "outputs": [],
   "source": [
    "X= [[1, 2, 3], [4,[1,2,3,4], 5, 6], [7, 8, 9], [10, 11, 12]]"
   ]
  },
  {
   "cell_type": "code",
   "execution_count": 6,
   "id": "9d633335-ae85-40ca-b292-9de959597d4f",
   "metadata": {},
   "outputs": [
    {
     "data": {
      "text/plain": [
       "[4, 3, 2, 1]"
      ]
     },
     "execution_count": 6,
     "metadata": {},
     "output_type": "execute_result"
    }
   ],
   "source": [
    "X[1][1][::-1]"
   ]
  },
  {
   "cell_type": "code",
   "execution_count": 9,
   "id": "093216db-af1e-415c-a127-63aeef4d61a4",
   "metadata": {},
   "outputs": [
    {
     "data": {
      "text/plain": [
       "[[4, 5, 6]]"
      ]
     },
     "execution_count": 9,
     "metadata": {},
     "output_type": "execute_result"
    }
   ],
   "source": [
    "list[1:3:2]"
   ]
  },
  {
   "cell_type": "code",
   "execution_count": 21,
   "id": "c727863a-48ed-4eb5-8c10-eb36af9b32ca",
   "metadata": {},
   "outputs": [],
   "source": [
    "list_1=[1,2,3,4,5,6,7,8,9]"
   ]
  },
  {
   "cell_type": "code",
   "execution_count": 11,
   "id": "af408ba4-d44e-4573-ae52-7a1c50408d8c",
   "metadata": {},
   "outputs": [
    {
     "data": {
      "text/plain": [
       "9"
      ]
     },
     "execution_count": 11,
     "metadata": {},
     "output_type": "execute_result"
    }
   ],
   "source": [
    "len(list_1)"
   ]
  },
  {
   "cell_type": "code",
   "execution_count": 14,
   "id": "b63e1e36-2f6b-420b-b3aa-614253f65782",
   "metadata": {},
   "outputs": [
    {
     "data": {
      "text/plain": [
       "[2, 4, 6]"
      ]
     },
     "execution_count": 14,
     "metadata": {},
     "output_type": "execute_result"
    }
   ],
   "source": [
    "list_1[1:6:2]"
   ]
  },
  {
   "cell_type": "code",
   "execution_count": 15,
   "id": "e4e3911f-ebee-41fe-b1a8-ce5f23962f44",
   "metadata": {},
   "outputs": [
    {
     "data": {
      "text/plain": [
       "['__add__',\n",
       " '__class__',\n",
       " '__class_getitem__',\n",
       " '__contains__',\n",
       " '__delattr__',\n",
       " '__delitem__',\n",
       " '__dir__',\n",
       " '__doc__',\n",
       " '__eq__',\n",
       " '__format__',\n",
       " '__ge__',\n",
       " '__getattribute__',\n",
       " '__getitem__',\n",
       " '__getstate__',\n",
       " '__gt__',\n",
       " '__hash__',\n",
       " '__iadd__',\n",
       " '__imul__',\n",
       " '__init__',\n",
       " '__init_subclass__',\n",
       " '__iter__',\n",
       " '__le__',\n",
       " '__len__',\n",
       " '__lt__',\n",
       " '__mul__',\n",
       " '__ne__',\n",
       " '__new__',\n",
       " '__reduce__',\n",
       " '__reduce_ex__',\n",
       " '__repr__',\n",
       " '__reversed__',\n",
       " '__rmul__',\n",
       " '__setattr__',\n",
       " '__setitem__',\n",
       " '__sizeof__',\n",
       " '__str__',\n",
       " '__subclasshook__',\n",
       " 'append',\n",
       " 'clear',\n",
       " 'copy',\n",
       " 'count',\n",
       " 'extend',\n",
       " 'index',\n",
       " 'insert',\n",
       " 'pop',\n",
       " 'remove',\n",
       " 'reverse',\n",
       " 'sort']"
      ]
     },
     "execution_count": 15,
     "metadata": {},
     "output_type": "execute_result"
    }
   ],
   "source": [
    "dir(list)"
   ]
  },
  {
   "cell_type": "code",
   "execution_count": 22,
   "id": "3b692464-d4c1-4325-999b-81790972fb35",
   "metadata": {},
   "outputs": [],
   "source": [
    "list_1.sort()"
   ]
  },
  {
   "cell_type": "code",
   "execution_count": 23,
   "id": "a090b402-5fc9-453a-9fc9-26f22df180e4",
   "metadata": {},
   "outputs": [],
   "source": [
    "list_1.sort()"
   ]
  },
  {
   "cell_type": "code",
   "execution_count": 24,
   "id": "3a505a29-e8d3-43a4-b84f-859a2ceae07b",
   "metadata": {},
   "outputs": [],
   "source": [
    "list_1.append(10)"
   ]
  },
  {
   "cell_type": "code",
   "execution_count": 25,
   "id": "fb5afea8-7057-4bdc-9f76-9bf4a76d48d0",
   "metadata": {},
   "outputs": [
    {
     "data": {
      "text/plain": [
       "[1, 2, 3, 4, 5, 6, 7, 8, 9, 10]"
      ]
     },
     "execution_count": 25,
     "metadata": {},
     "output_type": "execute_result"
    }
   ],
   "source": [
    "list_1"
   ]
  },
  {
   "cell_type": "code",
   "execution_count": 27,
   "id": "afd5e9f1-fb48-4601-bcbc-c48124f18e85",
   "metadata": {},
   "outputs": [
    {
     "data": {
      "text/plain": [
       "3"
      ]
     },
     "execution_count": 27,
     "metadata": {},
     "output_type": "execute_result"
    }
   ],
   "source": [
    "list_1.pop(2)"
   ]
  },
  {
   "cell_type": "code",
   "execution_count": 28,
   "id": "115f9e48-d75a-47fc-bc56-756279f7712b",
   "metadata": {},
   "outputs": [
    {
     "data": {
      "text/plain": [
       "[1, 2, 4, 5, 6, 7, 8, 9, 10]"
      ]
     },
     "execution_count": 28,
     "metadata": {},
     "output_type": "execute_result"
    }
   ],
   "source": [
    "list_1"
   ]
  },
  {
   "cell_type": "code",
   "execution_count": null,
   "id": "25d75de6-737f-4c6f-95a8-d4fe0834b424",
   "metadata": {},
   "outputs": [],
   "source": []
  }
 ],
 "metadata": {
  "kernelspec": {
   "display_name": "Python 3 (ipykernel)",
   "language": "python",
   "name": "python3"
  },
  "language_info": {
   "codemirror_mode": {
    "name": "ipython",
    "version": 3
   },
   "file_extension": ".py",
   "mimetype": "text/x-python",
   "name": "python",
   "nbconvert_exporter": "python",
   "pygments_lexer": "ipython3",
   "version": "3.12.4"
  }
 },
 "nbformat": 4,
 "nbformat_minor": 5
}
