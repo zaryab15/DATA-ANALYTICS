{
 "cells": [
  {
   "cell_type": "markdown",
   "id": "63c48ccc-dc8f-4b6c-b233-2cc5542ad534",
   "metadata": {},
   "source": [
    "You need to store and manage employee records where each record includes an\n",
    "employee's ID, name, and department."
   ]
  },
  {
   "cell_type": "code",
   "execution_count": 2,
   "id": "8815bed2-fae6-4fa0-a73d-149f2663cc8e",
   "metadata": {},
   "outputs": [
    {
     "data": {
      "text/plain": [
       "((101, 'Zaryab', 'Supply Chain'), (102, 'Ahmed', 'IT'), (103, 'Kamal', 'HR'))"
      ]
     },
     "execution_count": 2,
     "metadata": {},
     "output_type": "execute_result"
    }
   ],
   "source": [
    "emp_record = ((101,\"Zaryab\",\"Supply Chain\"),(102,\"Ahmed\",\"IT\"),(103,\"Kamal\",\"HR\"))\n",
    "emp_record"
   ]
  },
  {
   "cell_type": "code",
   "execution_count": 3,
   "id": "6a707ae8-1877-4cdb-89bd-9f52d6d357d6",
   "metadata": {},
   "outputs": [
    {
     "data": {
      "text/plain": [
       "tuple"
      ]
     },
     "execution_count": 3,
     "metadata": {},
     "output_type": "execute_result"
    }
   ],
   "source": [
    "type(emp_record)"
   ]
  },
  {
   "cell_type": "markdown",
   "id": "66ac1493-6793-4c15-8f25-eab9efd777fd",
   "metadata": {},
   "source": [
    "You are managing an inventory system where each item has an item ID, description,\n",
    "and quantity available. (Use tuples to represent each inventory item)."
   ]
  },
  {
   "cell_type": "code",
   "execution_count": 8,
   "id": "71a3aeea-8565-4b12-8fa5-a983e985183b",
   "metadata": {},
   "outputs": [
    {
     "name": "stdout",
     "output_type": "stream",
     "text": [
      "((101, 'Carbon', 1000), (202, 'Rubber', 5000), (303, 'oil', 2000))\n"
     ]
    },
    {
     "data": {
      "text/plain": [
       "tuple"
      ]
     },
     "execution_count": 8,
     "metadata": {},
     "output_type": "execute_result"
    }
   ],
   "source": [
    "item_1=(101,\"Carbon\",1000)\n",
    "item_2=(202,\"Rubber\",5000)\n",
    "item_3=(303,\"oil\",2000)\n",
    "inv =(item_1,item_2,item_3)\n",
    "print(inv)\n",
    "type(inv)"
   ]
  },
  {
   "cell_type": "markdown",
   "id": "3afe7702-b42e-4504-bdfb-9319aee19ee3",
   "metadata": {},
   "source": [
    "You need to store the dates and times of scheduled events, like meetings or\n",
    "appointments. (Use tuples to store date and time information)."
   ]
  },
  {
   "cell_type": "code",
   "execution_count": 9,
   "id": "f46172ac-c426-4df5-8a56-92103e3f60a7",
   "metadata": {},
   "outputs": [
    {
     "data": {
      "text/plain": [
       "(('12-Mar-2024', '12:30 pm'),\n",
       " ('11-April-2024', '01:30 pm'),\n",
       " ('15-Jan-2002', '09:30 pm'))"
      ]
     },
     "execution_count": 9,
     "metadata": {},
     "output_type": "execute_result"
    }
   ],
   "source": [
    "event_1 = (\"12-Mar-2024\",\"12:30 pm\")\n",
    "event_2 = (\"11-April-2024\",\"01:30 pm\")\n",
    "event_3 = (\"15-Jan-2002\",\"09:30 pm\")\n",
    "schedule_events =(event_1,event_2,event_3)\n",
    "schedule_events"
   ]
  },
  {
   "cell_type": "markdown",
   "id": "1886a6eb-bbfe-4263-aa09-857a861d8a8e",
   "metadata": {},
   "source": [
    "Store a company's employee details, organized by department. (Use dictionary in\n",
    "dictionary)."
   ]
  },
  {
   "cell_type": "code",
   "execution_count": 11,
   "id": "fc40870a-440b-4e8c-a9c1-364b631ec543",
   "metadata": {},
   "outputs": [
    {
     "data": {
      "text/plain": [
       "{'PPC': {101: {'name': 'Zaryab Raza Khan', 'Role': 'Scheduler'},\n",
       "  102: {'name': 'Kamran', 'Role': 'Manager'}},\n",
       " 'Supply Chain': {501: {'name': 'Ahmed', 'Role': 'Procurement Head'},\n",
       "  502: {'name': 'Ali', 'Role': 'Logistics Head'}},\n",
       " 'HR': {701: {'name': 'Fahim', 'Role': 'Talent Requisition'},\n",
       "  502: {'name': 'Salman', 'Role': 'Staff Management'}}}"
      ]
     },
     "execution_count": 11,
     "metadata": {},
     "output_type": "execute_result"
    }
   ],
   "source": [
    "employee = { \"PPC\" : {101 : {\"name\":\"Zaryab Raza Khan\", \"Role\":\"Scheduler\"}, 102 : {\"name\":\"Kamran\", \"Role\":\"Manager\"}},\n",
    "            \"Supply Chain\" :{501 : {\"name\":\"Ahmed\", \"Role\":\"Procurement Head\"}, 502 :{\"name\":\"Ali\", \"Role\":\"Logistics Head\"}},\n",
    "            \"HR\":{701 : {\"name\":\"Fahim\", \"Role\":\"Talent Requisition\"}, 702 :{\"name\":\"Salman\", \"Role\":\"Staff Management\"}}}\n",
    "employee"
   ]
  },
  {
   "cell_type": "code",
   "execution_count": 12,
   "id": "66fcaf7b-02ed-4991-9556-052e4c8f6b59",
   "metadata": {},
   "outputs": [
    {
     "data": {
      "text/plain": [
       "dict"
      ]
     },
     "execution_count": 12,
     "metadata": {},
     "output_type": "execute_result"
    }
   ],
   "source": [
    "type(employee)"
   ]
  },
  {
   "cell_type": "code",
   "execution_count": 14,
   "id": "50dbc581-782a-4060-9653-f7cd3ef19f8f",
   "metadata": {},
   "outputs": [
    {
     "data": {
      "text/plain": [
       "{'name': 'Zaryab Raza Khan', 'Role': 'Scheduler'}"
      ]
     },
     "execution_count": 14,
     "metadata": {},
     "output_type": "execute_result"
    }
   ],
   "source": [
    "employee[\"PPC\"][101]"
   ]
  },
  {
   "cell_type": "code",
   "execution_count": 17,
   "id": "57969734-a74d-4126-8483-c574ad14f969",
   "metadata": {},
   "outputs": [
    {
     "name": "stdin",
     "output_type": "stream",
     "text": [
      "Enter Department Name: HR\n",
      "Enter Employee ID: 701\n"
     ]
    },
    {
     "data": {
      "text/plain": [
       "{'name': 'Fahim', 'Role': 'Talent Requisition'}"
      ]
     },
     "execution_count": 17,
     "metadata": {},
     "output_type": "execute_result"
    }
   ],
   "source": [
    "depart_name= input(\"Enter Department Name:\")\n",
    "employee_ID = int(input(\"Enter Employee ID:\"))\n",
    "employee[depart_name][employee_ID]"
   ]
  },
  {
   "cell_type": "markdown",
   "id": "d4d83f8e-263d-4de4-97de-27aa6e3bf546",
   "metadata": {},
   "source": [
    "Keep track of student scores in various subjects and retrieve a student's scores. (Use\n",
    "dictionary in List)."
   ]
  },
  {
   "cell_type": "code",
   "execution_count": 26,
   "id": "03197e7e-6542-4163-85f3-5a46f8c87e2d",
   "metadata": {},
   "outputs": [
    {
     "name": "stdin",
     "output_type": "stream",
     "text": [
      "Write name of the student: Ahmed\n"
     ]
    },
    {
     "data": {
      "text/plain": [
       "{'name': 'Ahmed', 'score': {'Phy': 45, 'Chem': 95, 'Maths': 100}}"
      ]
     },
     "execution_count": 26,
     "metadata": {},
     "output_type": "execute_result"
    }
   ],
   "source": [
    "student = [{\"name\":\"Ahmed\",\"score\":{\"Phy\":45, \"Chem\":95, \"Maths\":100}},\n",
    "           {\"name\":\"Faraz\",\"score\":{\"Phy\":90, \"Chem\":100, \"Maths\":60}},\n",
    "           {\"name\":\"Salman\",\"score\":{\"Phy\":60, \"Chem\":90, \"Maths\":50}},\n",
    "           {\"name\":\"Babar\",\"score\":{\"Phy\":65, \"Chem\":95, \"Maths\":87}}]\n",
    "student_name = input(\"Write name of the student:\")\n",
    "if student_name == \"Ahmed\":\n",
    "    i = 0\n",
    "elif student_name == \"Faraz\":\n",
    "    i = 1\n",
    "elif student_name == \"Salman\":\n",
    "    i = 2\n",
    "elif student_name == \"Babar\":\n",
    "    i = 3\n",
    "result = student[i]\n",
    "result"
   ]
  },
  {
   "cell_type": "markdown",
   "id": "679de03e-e84b-427f-9cfe-22d96b5e381b",
   "metadata": {},
   "source": [
    "Track various projects and their associated tasks, and retrieve tasks for a specific\n",
    "project. (Use List in Dictionary)."
   ]
  },
  {
   "cell_type": "code",
   "execution_count": 27,
   "id": "77f5b146-b966-4fe2-af8c-ff2fff9c84c9",
   "metadata": {},
   "outputs": [
    {
     "name": "stdin",
     "output_type": "stream",
     "text": [
      "Enter the project Name: Project B\n"
     ]
    },
    {
     "data": {
      "text/plain": [
       "['Task 4', 'Task 5']"
      ]
     },
     "execution_count": 27,
     "metadata": {},
     "output_type": "execute_result"
    }
   ],
   "source": [
    "projects = { \"Project A\": [\"Task 1\", \"Task 2\", \"Task 3\"],\"Project B\": [\"Task 4\", \"Task 5\"],\"Project C\": [\"Task 6\", \"Task 7\", \"Task 8\", \"Task 9\"]}\n",
    "project_info = input(\"Enter the project Name:\")\n",
    "projects[project_info]\n",
    "\n"
   ]
  },
  {
   "cell_type": "markdown",
   "id": "a1ff7b2f-226b-4320-a8d3-3b8825211f6d",
   "metadata": {},
   "source": [
    "Manage courses and their contents in a training program and retrieve details of a\n",
    "specific module. (dictionary in dictionary)"
   ]
  },
  {
   "cell_type": "code",
   "execution_count": 28,
   "id": "682e0d03-de02-4cd5-8c14-7c6300752601",
   "metadata": {},
   "outputs": [
    {
     "name": "stdin",
     "output_type": "stream",
     "text": [
      "Enter course No: Course 2\n",
      "Enter Specific Module Module 1\n"
     ]
    },
    {
     "data": {
      "text/plain": [
       "['Overview', 'Concepts', 'Applications']"
      ]
     },
     "execution_count": 28,
     "metadata": {},
     "output_type": "execute_result"
    }
   ],
   "source": [
    "training_program = {\n",
    "    \"Course 1\": {\n",
    "        \"Module 1\": [\"Introduction\", \"Basics\", \"Advanced Topics\"],\n",
    "        \"Module 2\": [\"Theory\", \"Practical Exercises\"],\n",
    "        \"Module 3\": [\"Case Studies\", \"Project Work\"]\n",
    "    },\n",
    "    \"Course 2\": {\n",
    "        \"Module 1\": [\"Overview\", \"Concepts\", \"Applications\"],\n",
    "        \"Module 2\": [\"Hands-on Labs\", \"Quizzes\"],\n",
    "        \"Module 3\": [\"Research\", \"Final Project\"]\n",
    "    },\n",
    "    \"Course 3\": {\n",
    "        \"Module 1\": [\"Introduction\", \"Foundations\", \"Techniques\"],\n",
    "        \"Module 2\": [\"Workshops\", \"Discussion Sessions\"],\n",
    "        \"Module 3\": [\"Assignments\", \"Final Exam\"]\n",
    "    }\n",
    "}\n",
    "course_name=input(\"Enter course No:\")\n",
    "module = input(\"Enter Specific Module\")\n",
    "training_program[course_name][module]"
   ]
  },
  {
   "cell_type": "code",
   "execution_count": null,
   "id": "5fe0f648-8ef9-4f23-8e02-c5d61000986a",
   "metadata": {},
   "outputs": [],
   "source": []
  }
 ],
 "metadata": {
  "kernelspec": {
   "display_name": "Python 3 (ipykernel)",
   "language": "python",
   "name": "python3"
  },
  "language_info": {
   "codemirror_mode": {
    "name": "ipython",
    "version": 3
   },
   "file_extension": ".py",
   "mimetype": "text/x-python",
   "name": "python",
   "nbconvert_exporter": "python",
   "pygments_lexer": "ipython3",
   "version": "3.12.4"
  }
 },
 "nbformat": 4,
 "nbformat_minor": 5
}
